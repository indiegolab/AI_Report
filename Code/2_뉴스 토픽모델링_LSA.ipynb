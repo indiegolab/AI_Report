{
 "cells": [
  {
   "cell_type": "code",
   "execution_count": 1,
   "metadata": {
    "scrolled": true
   },
   "outputs": [
    {
     "data": {
      "text/html": [
       "<div>\n",
       "<style scoped>\n",
       "    .dataframe tbody tr th:only-of-type {\n",
       "        vertical-align: middle;\n",
       "    }\n",
       "\n",
       "    .dataframe tbody tr th {\n",
       "        vertical-align: top;\n",
       "    }\n",
       "\n",
       "    .dataframe thead th {\n",
       "        text-align: right;\n",
       "    }\n",
       "</style>\n",
       "<table border=\"1\" class=\"dataframe\">\n",
       "  <thead>\n",
       "    <tr style=\"text-align: right;\">\n",
       "      <th></th>\n",
       "      <th>Unnamed: 0</th>\n",
       "      <th>Unnamed: 0.1</th>\n",
       "      <th>type</th>\n",
       "      <th>date</th>\n",
       "      <th>media</th>\n",
       "      <th>title</th>\n",
       "      <th>content</th>\n",
       "      <th>url</th>\n",
       "      <th>tokens</th>\n",
       "      <th>bigram</th>\n",
       "      <th>trigram</th>\n",
       "      <th>fourgram</th>\n",
       "      <th>fivegram</th>\n",
       "      <th>ngram</th>\n",
       "    </tr>\n",
       "  </thead>\n",
       "  <tbody>\n",
       "    <tr>\n",
       "      <th>0</th>\n",
       "      <td>0</td>\n",
       "      <td>0</td>\n",
       "      <td>news</td>\n",
       "      <td>2019-08-31 20:01:00</td>\n",
       "      <td>서울일보</td>\n",
       "      <td>판깨스트 국정농단 상고심박근혜 2심 김문석 vs 이재용 2심 정형식 판결 재조명</td>\n",
       "      <td>박근혜왼쪽 전 대통령과 이재용 삼성전자 부회장. 연합2016년 말 전국에 들불처럼 ...</td>\n",
       "      <td>https://www.seoul.co.kr/news/newsView.php?id=2...</td>\n",
       "      <td>왼쪽/nng,부회장/nng,연합/nng,전국/nng,들불/nng,촛불/nng,번지/...</td>\n",
       "      <td>왼쪽/nng;부회장/nng,부회장/nng;연합/nng,연합/nng;전국/nng,전국...</td>\n",
       "      <td>왼쪽/nng;부회장/nng;연합/nng,부회장/nng;연합/nng;전국/nng,연합...</td>\n",
       "      <td>왼쪽/nng;부회장/nng;연합/nng;전국/nng,부회장/nng;연합/nng;전국...</td>\n",
       "      <td>왼쪽/nng;부회장/nng;연합/nng;전국/nng;들불/nng,부회장/nng;연합...</td>\n",
       "      <td>왼쪽/nng;부회장/nng,부회장/nng;연합/nng,연합/nng;전국/nng,전국...</td>\n",
       "    </tr>\n",
       "    <tr>\n",
       "      <th>1</th>\n",
       "      <td>1</td>\n",
       "      <td>1</td>\n",
       "      <td>news</td>\n",
       "      <td>2019-08-31 20:00:00</td>\n",
       "      <td>서울경제</td>\n",
       "      <td>출시되도 사긴 어렵다...한정판 등극한 갤럭시 폴드</td>\n",
       "      <td>갤럭시폴드 9월 6일 국내 출시 유력자급제 위주 극소 물량만 공급화웨이 메이트X와 ...</td>\n",
       "      <td>https://www.sedaily.com/NewsView/1VN6NE5XNI</td>\n",
       "      <td>출시/nng,유력/nng,자급/nng,위주/nng,극소/nng,물량/nng,공급/n...</td>\n",
       "      <td>출시/nng;유력/nng,유력/nng;자급/nng,자급/nng;위주/nng,위주/n...</td>\n",
       "      <td>출시/nng;유력/nng;자급/nng,유력/nng;자급/nng;위주/nng,자급/n...</td>\n",
       "      <td>출시/nng;유력/nng;자급/nng;위주/nng,유력/nng;자급/nng;위주/n...</td>\n",
       "      <td>출시/nng;유력/nng;자급/nng;위주/nng;극소/nng,유력/nng;자급/n...</td>\n",
       "      <td>출시/nng;유력/nng,유력/nng;자급/nng,자급/nng;위주/nng,위주/n...</td>\n",
       "    </tr>\n",
       "    <tr>\n",
       "      <th>2</th>\n",
       "      <td>2</td>\n",
       "      <td>2</td>\n",
       "      <td>news</td>\n",
       "      <td>2019-08-31 13:08:00</td>\n",
       "      <td>디지털타임스</td>\n",
       "      <td>삼성 중장기 성장 전략 차질 우려에 글로벌경영 시계 제로</td>\n",
       "      <td>삼성전자 이재용 부회장이 29일 대법원에서 원심 파기 환송 판결을 받으면서 삼성은 ...</td>\n",
       "      <td>http://www.dt.co.kr/contents.html?article_no=2...</td>\n",
       "      <td>부회장/nng,대법원/nng,원심/nng,파기환송/nng,판결/nng,다시/mag,...</td>\n",
       "      <td>부회장/nng;대법원/nng,대법원/nng;원심/nng,원심/nng;파기환송/nng...</td>\n",
       "      <td>부회장/nng;대법원/nng;원심/nng,대법원/nng;원심/nng;파기환송/nng...</td>\n",
       "      <td>부회장/nng;대법원/nng;원심/nng;파기환송/nng,대법원/nng;원심/nng...</td>\n",
       "      <td>부회장/nng;대법원/nng;원심/nng;파기환송/nng;판결/nng,대법원/nng...</td>\n",
       "      <td>부회장/nng;대법원/nng,대법원/nng;원심/nng,원심/nng;파기환송/nng...</td>\n",
       "    </tr>\n",
       "    <tr>\n",
       "      <th>3</th>\n",
       "      <td>3</td>\n",
       "      <td>3</td>\n",
       "      <td>news</td>\n",
       "      <td>2019-08-31 12:29:00</td>\n",
       "      <td>이데일리</td>\n",
       "      <td>밑줄 쫙 박근혜이재용 안돼 그러니까 돌아가</td>\n",
       "      <td>박근혜이재용 안돼바꿔돌아가 문준용 부당해 목소리 내야 한다 한국 대통령이 동네북이냐...</td>\n",
       "      <td>http://www.edaily.co.kr/news/newspath.asp?news...</td>\n",
       "      <td>바뀌/vv,돌아/vv,준용/nng,부당/nng,목소리/nng,동네북/nng,기사/n...</td>\n",
       "      <td>바뀌/vv;돌아/vv,돌아/vv;준용/nng,준용/nng;부당/nng,부당/nng;...</td>\n",
       "      <td>바뀌/vv;돌아/vv;준용/nng,돌아/vv;준용/nng;부당/nng,준용/nng;...</td>\n",
       "      <td>바뀌/vv;돌아/vv;준용/nng;부당/nng,돌아/vv;준용/nng;부당/nng;...</td>\n",
       "      <td>바뀌/vv;돌아/vv;준용/nng;부당/nng;목소리/nng,돌아/vv;준용/nng...</td>\n",
       "      <td>바뀌/vv;돌아/vv,돌아/vv;준용/nng,준용/nng;부당/nng,부당/nng;...</td>\n",
       "    </tr>\n",
       "    <tr>\n",
       "      <th>4</th>\n",
       "      <td>4</td>\n",
       "      <td>4</td>\n",
       "      <td>news</td>\n",
       "      <td>2019-08-31 12:24:00</td>\n",
       "      <td>YTN</td>\n",
       "      <td>삼성 불법파견 은폐 정현옥 전 고용노동부 차관 1심서 무죄</td>\n",
       "      <td>삼성전자 서비스의 불법파견을 은폐한 혐의로 기소된 정현옥 전 고용노동부 차관이 1심...</td>\n",
       "      <td>https://www.ytn.co.kr/_ln/0103_201908310024381064</td>\n",
       "      <td>서비스/nng,불법/nng,파견/nng,은폐/nng,혐의/nng,기소/nng,고용/...</td>\n",
       "      <td>서비스/nng;불법/nng,불법/nng;파견/nng,파견/nng;은폐/nng,은폐/...</td>\n",
       "      <td>서비스/nng;불법/nng;파견/nng,불법/nng;파견/nng;은폐/nng,파견/...</td>\n",
       "      <td>서비스/nng;불법/nng;파견/nng;은폐/nng,불법/nng;파견/nng;은폐/...</td>\n",
       "      <td>서비스/nng;불법/nng;파견/nng;은폐/nng;혐의/nng,불법/nng;파견/...</td>\n",
       "      <td>서비스/nng;불법/nng,불법/nng;파견/nng,파견/nng;은폐/nng,은폐/...</td>\n",
       "    </tr>\n",
       "  </tbody>\n",
       "</table>\n",
       "</div>"
      ],
      "text/plain": [
       "   Unnamed: 0  Unnamed: 0.1  type                 date   media  \\\n",
       "0           0             0  news  2019-08-31 20:01:00    서울일보   \n",
       "1           1             1  news  2019-08-31 20:00:00    서울경제   \n",
       "2           2             2  news  2019-08-31 13:08:00  디지털타임스   \n",
       "3           3             3  news  2019-08-31 12:29:00    이데일리   \n",
       "4           4             4  news  2019-08-31 12:24:00     YTN   \n",
       "\n",
       "                                          title  \\\n",
       "0  판깨스트 국정농단 상고심박근혜 2심 김문석 vs 이재용 2심 정형식 판결 재조명   \n",
       "1                  출시되도 사긴 어렵다...한정판 등극한 갤럭시 폴드   \n",
       "2               삼성 중장기 성장 전략 차질 우려에 글로벌경영 시계 제로   \n",
       "3                       밑줄 쫙 박근혜이재용 안돼 그러니까 돌아가   \n",
       "4              삼성 불법파견 은폐 정현옥 전 고용노동부 차관 1심서 무죄   \n",
       "\n",
       "                                             content  \\\n",
       "0  박근혜왼쪽 전 대통령과 이재용 삼성전자 부회장. 연합2016년 말 전국에 들불처럼 ...   \n",
       "1  갤럭시폴드 9월 6일 국내 출시 유력자급제 위주 극소 물량만 공급화웨이 메이트X와 ...   \n",
       "2  삼성전자 이재용 부회장이 29일 대법원에서 원심 파기 환송 판결을 받으면서 삼성은 ...   \n",
       "3  박근혜이재용 안돼바꿔돌아가 문준용 부당해 목소리 내야 한다 한국 대통령이 동네북이냐...   \n",
       "4  삼성전자 서비스의 불법파견을 은폐한 혐의로 기소된 정현옥 전 고용노동부 차관이 1심...   \n",
       "\n",
       "                                                 url  \\\n",
       "0  https://www.seoul.co.kr/news/newsView.php?id=2...   \n",
       "1        https://www.sedaily.com/NewsView/1VN6NE5XNI   \n",
       "2  http://www.dt.co.kr/contents.html?article_no=2...   \n",
       "3  http://www.edaily.co.kr/news/newspath.asp?news...   \n",
       "4  https://www.ytn.co.kr/_ln/0103_201908310024381064   \n",
       "\n",
       "                                              tokens  \\\n",
       "0  왼쪽/nng,부회장/nng,연합/nng,전국/nng,들불/nng,촛불/nng,번지/...   \n",
       "1  출시/nng,유력/nng,자급/nng,위주/nng,극소/nng,물량/nng,공급/n...   \n",
       "2  부회장/nng,대법원/nng,원심/nng,파기환송/nng,판결/nng,다시/mag,...   \n",
       "3  바뀌/vv,돌아/vv,준용/nng,부당/nng,목소리/nng,동네북/nng,기사/n...   \n",
       "4  서비스/nng,불법/nng,파견/nng,은폐/nng,혐의/nng,기소/nng,고용/...   \n",
       "\n",
       "                                              bigram  \\\n",
       "0  왼쪽/nng;부회장/nng,부회장/nng;연합/nng,연합/nng;전국/nng,전국...   \n",
       "1  출시/nng;유력/nng,유력/nng;자급/nng,자급/nng;위주/nng,위주/n...   \n",
       "2  부회장/nng;대법원/nng,대법원/nng;원심/nng,원심/nng;파기환송/nng...   \n",
       "3  바뀌/vv;돌아/vv,돌아/vv;준용/nng,준용/nng;부당/nng,부당/nng;...   \n",
       "4  서비스/nng;불법/nng,불법/nng;파견/nng,파견/nng;은폐/nng,은폐/...   \n",
       "\n",
       "                                             trigram  \\\n",
       "0  왼쪽/nng;부회장/nng;연합/nng,부회장/nng;연합/nng;전국/nng,연합...   \n",
       "1  출시/nng;유력/nng;자급/nng,유력/nng;자급/nng;위주/nng,자급/n...   \n",
       "2  부회장/nng;대법원/nng;원심/nng,대법원/nng;원심/nng;파기환송/nng...   \n",
       "3  바뀌/vv;돌아/vv;준용/nng,돌아/vv;준용/nng;부당/nng,준용/nng;...   \n",
       "4  서비스/nng;불법/nng;파견/nng,불법/nng;파견/nng;은폐/nng,파견/...   \n",
       "\n",
       "                                            fourgram  \\\n",
       "0  왼쪽/nng;부회장/nng;연합/nng;전국/nng,부회장/nng;연합/nng;전국...   \n",
       "1  출시/nng;유력/nng;자급/nng;위주/nng,유력/nng;자급/nng;위주/n...   \n",
       "2  부회장/nng;대법원/nng;원심/nng;파기환송/nng,대법원/nng;원심/nng...   \n",
       "3  바뀌/vv;돌아/vv;준용/nng;부당/nng,돌아/vv;준용/nng;부당/nng;...   \n",
       "4  서비스/nng;불법/nng;파견/nng;은폐/nng,불법/nng;파견/nng;은폐/...   \n",
       "\n",
       "                                            fivegram  \\\n",
       "0  왼쪽/nng;부회장/nng;연합/nng;전국/nng;들불/nng,부회장/nng;연합...   \n",
       "1  출시/nng;유력/nng;자급/nng;위주/nng;극소/nng,유력/nng;자급/n...   \n",
       "2  부회장/nng;대법원/nng;원심/nng;파기환송/nng;판결/nng,대법원/nng...   \n",
       "3  바뀌/vv;돌아/vv;준용/nng;부당/nng;목소리/nng,돌아/vv;준용/nng...   \n",
       "4  서비스/nng;불법/nng;파견/nng;은폐/nng;혐의/nng,불법/nng;파견/...   \n",
       "\n",
       "                                             ngram\\r  \n",
       "0  왼쪽/nng;부회장/nng,부회장/nng;연합/nng,연합/nng;전국/nng,전국...  \n",
       "1  출시/nng;유력/nng,유력/nng;자급/nng,자급/nng;위주/nng,위주/n...  \n",
       "2  부회장/nng;대법원/nng,대법원/nng;원심/nng,원심/nng;파기환송/nng...  \n",
       "3  바뀌/vv;돌아/vv,돌아/vv;준용/nng,준용/nng;부당/nng,부당/nng;...  \n",
       "4  서비스/nng;불법/nng,불법/nng;파견/nng,파견/nng;은폐/nng,은폐/...  "
      ]
     },
     "execution_count": 1,
     "metadata": {},
     "output_type": "execute_result"
    }
   ],
   "source": [
    "import pandas as pd\n",
    "news =pd.read_csv('./data/news_data/news_sample_ngram_ver4.csv',encoding = 'utf-8',lineterminator='\\n')\n",
    "\n",
    "news = news.dropna()\n",
    "news = news.reset_index()\n",
    "del news['index']\n",
    "\n",
    "news.head()"
   ]
  },
  {
   "cell_type": "code",
   "execution_count": 2,
   "metadata": {},
   "outputs": [],
   "source": []
  },
  {
   "cell_type": "code",
   "execution_count": null,
   "metadata": {},
   "outputs": [],
   "source": []
  },
  {
   "cell_type": "code",
   "execution_count": 4,
   "metadata": {},
   "outputs": [],
   "source": []
  },
  {
   "cell_type": "code",
   "execution_count": 10,
   "metadata": {},
   "outputs": [
    {
     "name": "stdout",
     "output_type": "stream",
     "text": [
      "TF_IDF토픽모델링\n",
      "Topic 1:  [('불화/nng;수소/nng;수출/nng', 0.17842), ('핵심/nng;불화/nng;수소/nng', 0.13811), ('사용/nng;범용/nng;제품/nng', 0.13425), ('가격/nng;연속/nng;하락/nng', 0.12163), ('가능성/nng;부족/nng;우려/nng', 0.12163), ('제품/nng;계약가격/nng;기준/nng', 0.12163), ('영향/nng;미치/vv;분석/nng', 0.12163), ('분석/nng;특히/mag;업체/nng', 0.12163), ('제품/nng;멀티플/nng;레벨/nng', 0.12163), ('수소/nng;수출/nng;가능성/nng', 0.12163)]\n",
      "Topic 2:  [('의견/nng;경제/nng;채널/nng', 0.16488), ('자세/nng;내용/nng;동영상/nng', 0.16488), ('채널/nng;경제/nng;실험/nng', 0.16488), ('재재/nng;배포/nng;금지/nng', 0.16488), ('바랍니다/vv;의견/nng;경제/nng', 0.16488), ('경제/nng;실험/nng;머니/nng', 0.16488), ('내용/nng;동영상/nng;시청/nng', 0.16488), ('동영상/nng;시청/nng;바랍니다/vv', 0.16488), ('단전/nng;재재/nng;배포/nng', 0.16488), ('머니/nng;단전/nng;재재/nng', 0.16488)]\n",
      "Topic 3:  [('한번/mag;할인/nng;리얼/nng', 0.32881), ('채널/nng;추석/nng;선물/nng', 0.32881), ('추석/nng;선물/nng;한번/mag', 0.32881), ('선물/nng;한번/mag;할인/nng', 0.32881), ('할인/nng;리얼/nng;사이트/nng', 0.32881), ('기환/nng;송심/nng;결과/nng', 0.12174), ('의혹/nng;사건/nng;시작/nng', 0.09344), ('뇌물/nng;공여/nng;액수/nng', 0.08945), ('국가/nng;경제/nng;이바지/nng', 0.08864), ('소유권/nng;실질/nng;처분/nng', 0.0844)]\n",
      "Topic 4:  [('소유권/nng;실질/nng;처분/nng', 0.20736), ('채널/nng;유일/nng;석간/nng', 0.18943), ('문화/nng;닷컴/nng;직접/mag', 0.18943), ('편집/nng;채널/nng;유일/nng', 0.18943), ('직접/mag;편집/nng;채널/nng', 0.18943), ('닷컴/nng;직접/mag;편집/nng', 0.18943), ('실질/nng;처분/nng;권한/nng', 0.18116), ('제3자/nng;물수/nng;수죄/nng', 0.13261), ('처분/nng;권한/nng;이전/nng', 0.1309), ('경영권/nng;승계/nng;묵시/nng', 0.11888)]\n",
      "Topic 5:  [('불화/nng;수소/nng;수출/nng', 0.37321), ('수소/nng;수출/nng;허가/nng', 0.27402), ('가스/nng;수출/nng;허가/nng', 0.18355), ('수출/nng;규제/nng;조치/nng', 0.17288), ('허가/nng;불화/nng;수소/nng', 0.13851), ('수출/nng;허가/nng;사실/nng', 0.13558), ('수출/nng;허가/nng;불화/nng', 0.13558), ('불화/nng;수소/nng;수입/nng', 0.13412), ('이렇게/mag;찔끔찔끔/mag;허가/nng', 0.11275), ('수출/nng;허가/nng;수출/nng', 0.10488)]\n",
      "Topic 6:  [('채널/nng;유일/nng;석간/nng', 0.2631), ('편집/nng;채널/nng;유일/nng', 0.2631), ('닷컴/nng;직접/mag;편집/nng', 0.2631), ('문화/nng;닷컴/nng;직접/mag', 0.2631), ('직접/mag;편집/nng;채널/nng', 0.2631), ('부회장/nng;법정/nng;출석/nng', 0.17844), ('우려/nng;재판/nng;다시/mag', 0.15979), ('재산/nng;국외/nng;피죄/nng', 0.14164), ('상승/nng;코스닥/nng;지수/nng', 0.13396), ('무죄/nng;확정/nng;대해/vv', 0.1121)]\n",
      "Topic 7:  [('단독/nng;추세/nng;채널/nng', 0.31171), ('여대/nng;직물/nng;학과/nng', 0.24463), ('학과/nng;별세/nng;지류/nng', 0.24463), ('발인/nng;성신/nng;여대/nng', 0.24463), ('유통/nng;미주/nng;법인/nng', 0.24463), ('선전/nng;탐방/nng;신청/nng', 0.14961), ('무료/nng;선전/nng;탐방/nng', 0.14961), ('모집/nng;접수/nng;순위/nng', 0.13198), ('부동산/nng;규제/nng;강화/nng', 0.13198), ('학군/nng;생활/nng;인프라/nng', 0.13198)]\n",
      "Topic 8:  [('여대/nng;직물/nng;학과/nng', 0.19672), ('학과/nng;별세/nng;지류/nng', 0.19672), ('발인/nng;성신/nng;여대/nng', 0.19672), ('유통/nng;미주/nng;법인/nng', 0.19672), ('단독/nng;추세/nng;채널/nng', 0.16603), ('선전/nng;탐방/nng;신청/nng', 0.14893), ('무료/nng;선전/nng;탐방/nng', 0.14893), ('실시/nng;계획서/nng;채택/nng', 0.13581), ('구독/nng;추가/nng;리얼타임/nng', 0.13173), ('메인/vv;구독/nng;추가/nng', 0.13173)]\n",
      "Topic 9:  [('학과/nng;별세/nng;지류/nng', 0.24728), ('유통/nng;미주/nng;법인/nng', 0.24728), ('발인/nng;성신/nng;여대/nng', 0.24728), ('여대/nng;직물/nng;학과/nng', 0.24728), ('단독/nng;추세/nng;채널/nng', 0.21559), ('무료/nng;선전/nng;탐방/nng', 0.15185), ('선전/nng;탐방/nng;신청/nng', 0.15185), ('닷컴/nng;직접/mag;편집/nng', 0.08855), ('직접/mag;편집/nng;채널/nng', 0.08855), ('채널/nng;유일/nng;석간/nng', 0.08855)]\n",
      "Topic 10:  [('재판/nng;다시/mag;결정/nng', 0.23354), ('사건/nng;법원/nng;돌려보냈/vv', 0.21507), ('부회장/nng;대해서/vv;지원/nng', 0.21327), ('구매/nng;뇌물/nng;인정/nng', 0.21327), ('취지/nng;사건/nng;법원/nng', 0.21327), ('기소/nng;부회장/nng;대해/vv', 0.21327), ('인정/nng;사건/nng;파기환송/nng', 0.21327), ('공직자/nng;뇌물죄/nng;따로/mag', 0.21327), ('상고심/nng;공직자/nng;뇌물죄/nng', 0.21327), ('국정농단/nng;사건/nng;기소/nng', 0.20713)]\n"
     ]
    }
   ],
   "source": [
    "A = news['trigram'].to_list()\n",
    "import KimModule.Topic_Modeling_LSA_TF_IDF as kim\n",
    "DF =kim.Topic_LSA_TF_IDF(A)\n",
    "df = DF.LSA_TF_IDF()\n",
    "df"
   ]
  },
  {
   "cell_type": "code",
   "execution_count": 11,
   "metadata": {},
   "outputs": [
    {
     "name": "stdout",
     "output_type": "stream",
     "text": [
      "TDM토픽모델링\n",
      "Topic 1:  [('생각/nng;합니다/vv;앵커/nng', 0.07284), ('다수결/nng;법사위/nng;다수결/nng', 0.07284), ('초치/nng;장면/nng;공개/nng', 0.07284), ('조국/nng;무산/nng;위기/nng', 0.04856), ('앵커/nng;언론/nng;보도/nng', 0.04856), ('정치/nng;완전히/mag;독립/nng', 0.04856), ('가족/nng;증인/nng;채택/nng', 0.04856), ('언론/nng;보도/nng;당연/nng', 0.04856), ('경제/nng;악영향/nng;끼치/vv', 0.04856), ('아니/vcn;여야/nng;합의/nng', 0.04856)]\n",
      "Topic 2:  [('로비/nng;의혹/nng;사건/nng', 0.09481), ('생각/nng;진짜/mag;위기/nng', 0.06321), ('매우/mag;위기/nng;위기/nng', 0.06321), ('요구/nng;촛불/nng;집회/nng', 0.032), ('공론/nng;과정/nng;없이/mag', 0.032), ('부정/nng;입학/nng;의혹/nng', 0.032), ('단독/nng;추세/nng;채널/nng', 0.03167), ('조국/nng;법무부/nng;후보자/nng', 0.03164), ('88만원세대/nng;판매/nng;부수/nng', 0.0316), ('촛불/nng;사퇴/nng;했어야/xsv', 0.0316)]\n",
      "Topic 3:  [('제품/nng;디자인/nng;선택/nng', 0.09622), ('맞춤/nng;냉장고/nng;비스/nng', 0.06422), ('니즈/nng;우선/nng;반영/nng', 0.06415), ('고령화/nng;시대/nng;대비/nng', 0.06415), ('대비/nng;제품/nng;준비/nng', 0.06415), ('규제/nng;샌드/nng;박스/nng', 0.06415), ('최초/nng;캡슐/nng;수제/nng', 0.06415), ('고객/nng;니즈/nng;우선/nng', 0.06415), ('사용/nng;경험/nng;중시/nng', 0.06415), ('프로젝트/nng;프리즘/nng;시작/nng', 0.06415)]\n",
      "Topic 4:  [('wto/nng;제소/nng;방침/nng', 0.19288), ('수출/nng;규제/nng;품목/nng', 0.12912), ('보복/nng;대해/vv;wto/nng', 0.12859), ('제소/nng;위하/vv;준비/nng', 0.12859), ('경제/nng;보복/nng;대해/vv', 0.12859), ('수출/nng;규제/nng;조치/nng', 0.0724), ('허가/nng;불화/nng;수소/nng', 0.07176), ('수소/nng;허가/nng;해서/vv', 0.06925), ('수소/nng;에칭/nng;가스/nng', 0.06925), ('거론/nng;패소/nng;염두/nng', 0.06925)]\n",
      "Topic 5:  [('국정농단/nng;사건/nng;핵심/nng', 0.08727), ('뇌물/nng;혐의/nng;분리/nng', 0.07554), ('혐의/nng;분리/nng;선고/nng', 0.07258), ('반일/nng;종족/nng;주의/nng', 0.06771), ('승마/nng;지원/nng;뇌물/nng', 0.06725), ('뇌물/nng;혐의/nng;대해/vv', 0.06382), ('사건/nng;핵심/nng;쟁점/nng', 0.06344), ('뇌물/nng;사건/nng;핵심/nng', 0.06154), ('고법/nng;형사/nng;재판장/nng', 0.06154), ('형사/nng;재판장/nng;판사/nng', 0.06154)]\n",
      "Topic 6:  [('예산/nng;입법/nng;지원/nng', 0.1434), ('경제/nng;보복/nng;조치/nng', 0.10772), ('경제전/nng;예산/nng;입법/nng', 0.10755), ('입법/nng;지원/nng;단장/nng', 0.10755), ('중견/nng;중소기업/nng;소재부품/nng', 0.0717), ('조금/mag;미안/nng;생각/nng', 0.0717), ('스스로/mag;잘못/nng;분명/mag', 0.0717), ('산업/nng;위기/nng;지역/nng', 0.0717), ('경제/nng;체질/nng;개선/nng', 0.0717), ('미안/nng;생각/nng;가졌/vv', 0.0717)]\n",
      "Topic 7:  [('반일/nng;종족/nng;주의/nng', 0.12714), ('상습/nng;도박/nng;혐의/nng', 0.09535), ('경찰청/nng;지능/nng;범죄/nng', 0.09535), ('지방/nng;경찰청/nng;지능/nng', 0.09535), ('파기환송/nng;결정/nng;시민/nng', 0.09535), ('대법원/nng;파기환송/nng;결정/nng', 0.09535), ('애국/nng;국민운동/nng;연합/nng', 0.09535), ('국정농단/nng;사건/nng;대법원/nng', 0.0641), ('조국/nng;촛불/nng;집회/nng', 0.06357), ('법무부/nng;분노/nng;계속/mag', 0.06357)]\n",
      "Topic 8:  [('특정/nng;경제/nng;범죄/nng', 0.1067), ('경제/nng;범죄/nng;중처/nng', 0.1067), ('범죄/nng;중처/nng;법상/nng', 0.09944), ('대법원/nng;전원/nng;합의체/nng', 0.09765), ('기환/nng;송심/nng;부회장/nng', 0.08149), ('사회/nng;위하/vv;모임/nng', 0.07719), ('위하/vv;모임/nng;부회장/nng', 0.07719), ('재산/nng;국외/nng;피죄/nng', 0.07501), ('자세/nng;내용/nng;동영상/nng', 0.07387), ('채널/nng;경제/nng;실험/nng', 0.07387)]\n",
      "Topic 9:  [('지역/nng;엑스/nng;포관/nng', 0.12782), ('예비/nng;발전사/nng;업자/nng', 0.08521), ('제품/nng;창업/nng;아이디어/nng', 0.08521), ('창업/nng;아이디어/nng;무료/nng', 0.08521), ('해외/nng;에너지기업/nng;참가/nng', 0.08521), ('전향/nng;중소기업/nng;제품/nng', 0.08521), ('접목/nng;제품/nng;고효율/nng', 0.08521), ('해외/nng;바이어/nng;초청/nng', 0.08521), ('아이디어/nng;무료/nng;전시/nng', 0.08521), ('분야/nng;전향/nng;중소기업/nng', 0.08521)]\n",
      "Topic 10:  [('역세권/nng;학세/nng;몰세/nng', 0.10871), ('모집/nng;접수/nng;순위/nng', 0.10871), ('학군/nng;생활/nng;인프라/nng', 0.10871), ('부동산/nng;규제/nng;강화/nng', 0.10871), ('가깝/va;역세권/nng;학세/nng', 0.10871), ('단지/mag;지하철/nng;역세권/nng', 0.08126), ('소유권/nng;실질/nng;처분/nng', 0.06938), ('인근/nng;마련/nng;예정/nng', 0.05436), ('최고/nng;개동/nng;대규모/nng', 0.05436), ('통풍/nng;유리/nng;베이/nng', 0.05436)]\n"
     ]
    }
   ],
   "source": [
    "A = news['trigram'].to_list()\n",
    "import KimModule.Topic_Modeling_LSA_TDM as kim\n",
    "DF =kim.Topic_LSA_TDM(A)\n",
    "df = DF.LSA_TDM()\n",
    "df"
   ]
  },
  {
   "cell_type": "code",
   "execution_count": 7,
   "metadata": {},
   "outputs": [],
   "source": []
  },
  {
   "cell_type": "code",
   "execution_count": 12,
   "metadata": {},
   "outputs": [
    {
     "name": "stdout",
     "output_type": "stream",
     "text": [
      "TF_IDF토픽모델링\n",
      "Topic 1:  [('자세/nng;내용/nng;동영상/nng;시청/nng;바랍니다/vv', 0.27825), ('경제/nng;실험/nng;머니/nng;단전/nng;재재/nng', 0.27825), ('의견/nng;경제/nng;채널/nng;경제/nng;실험/nng', 0.27825), ('채널/nng;경제/nng;실험/nng;머니/nng;단전/nng', 0.27825), ('시청/nng;바랍니다/vv;의견/nng;경제/nng;채널/nng', 0.27825), ('머니/nng;단전/nng;재재/nng;배포/nng;금지/nng', 0.27825), ('경제/nng;채널/nng;경제/nng;실험/nng;머니/nng', 0.27825), ('내용/nng;동영상/nng;시청/nng;바랍니다/vv;의견/nng', 0.27825), ('동영상/nng;시청/nng;바랍니다/vv;의견/nng;경제/nng', 0.27825), ('바랍니다/vv;의견/nng;경제/nng;채널/nng;경제/nng', 0.27825)]\n",
      "Topic 2:  [('채널/nng;추석/nng;선물/nng;한번/mag;할인/nng', 0.52655), ('선물/nng;한번/mag;할인/nng;리얼/nng;사이트/nng', 0.52655), ('추석/nng;선물/nng;한번/mag;할인/nng;리얼/nng', 0.52655), ('극복/nng;국가/nng;경제/nng;이바지/nng;성원/nng', 0.13495), ('국가/nng;경제/nng;이바지/nng;성원/nng;부탁/nng', 0.13495), ('위기/nng;극복/nng;국가/nng;경제/nng;이바지/nng', 0.13495), ('경제/nng;위기/nng;극복/nng;국가/nng;경제/nng', 0.11697), ('불확실성/nng;경제/nng;위기/nng;극복/nng;국가/nng', 0.11697), ('갈수록/mag;불확실성/nng;경제/nng;위기/nng;극복/nng', 0.11697), ('경제/nng;이바지/nng;성원/nng;부탁/nng;드립니다/vv', 0.0997)]\n",
      "Topic 3:  [('닷컴/nng;직접/mag;편집/nng;채널/nng;유일/nng', 0.5427), ('직접/mag;편집/nng;채널/nng;유일/nng;석간/nng', 0.5427), ('문화/nng;닷컴/nng;직접/mag;편집/nng;채널/nng', 0.5427), ('가장/mag;무겁/va;재산/nng;국외/nng;피죄/nng', 0.15199), ('뇌물/nng;액수/nng;부회장/nng;기환/nng;송심/nng', 0.06791), ('인물/nng;부회장/nng;비선/nng;실세/nng;재판/nng', 0.06583), ('사건/nng;핵심/nng;인물/nng;부회장/nng;비선/nng', 0.06583), ('국정농단/nng;사건/nng;핵심/nng;인물/nng;부회장/nng', 0.06583), ('부회장/nng;비선/nng;실세/nng;재판/nng;전부/mag', 0.06337), ('실세/nng;재판/nng;전부/mag;다시/mag;결정/nng', 0.06337)]\n",
      "Topic 4:  [('채널/nng;생방송/nng;채널/nng;반드시/mag;봐야/vv', 0.6914), ('생방송/nng;채널/nng;반드시/mag;봐야/vv;힙합/nng', 0.6914), ('재판/nng;다시/mag;결정/nng;대법원/nng;전원/nng', 0.04789), ('전원/nng;합의체/nng;상고심/nng;공직자/nng;뇌물죄/nng', 0.04789), ('사건/nng;법원/nng;돌려보냈/vv;부회장/nng;대해서/vv', 0.04789), ('상고심/nng;공직자/nng;뇌물죄/nng;따로/mag;선고/nng', 0.04789), ('국정농단/nng;사건/nng;기소/nng;부회장/nng;대해/vv', 0.04789), ('뇌물죄/nng;따로/mag;선고/nng;취지/nng;사건/nng', 0.04789), ('다시/mag;결정/nng;대법원/nng;전원/nng;합의체/nng', 0.04789), ('구매/nng;뇌물/nng;인정/nng;사건/nng;파기환송/nng', 0.04789)]\n",
      "Topic 5:  [('가격/nng;급등/nng;계약/nng;상승/nng;이어지/vv', 0.13559), ('사용/nng;범용/nng;제품/nng;멀티플/nng;레벨/nng', 0.13559), ('규제/nng;제품/nng;생산/nng;영향/nng;미치/vv', 0.13559), ('분석/nng;특히/mag;업체/nng;대상/nng;제조/nng', 0.13559), ('불화/nng;수소/nng;수출/nng;가능성/nng;부족/nng', 0.13559), ('드라이브/nng;사용/nng;범용/nng;제품/nng;멀티플/nng', 0.13559), ('대상/nng;제조/nng;핵심/nng;불화/nng;수소/nng', 0.13559), ('비트/nng;제품/nng;계약가격/nng;기준/nng;달러/nng', 0.13559), ('사용/nng;비트/nng;제품/nng;계약가격/nng;기준/nng', 0.13559), ('생산/nng;영향/nng;미치/vv;분석/nng;특히/mag', 0.13559)]\n",
      "Topic 6:  [('노트/nng;바람/nng;피운/vv;배우자/nng;가사/nng', 0.2977), ('바람/nng;피운/vv;배우자/nng;가사/nng;상담/nng', 0.2977), ('피운/vv;배우자/nng;가사/nng;상담/nng;메인/vv', 0.2977), ('후회/nng;습관/nng;투자/nng;노트/nng;바람/nng', 0.2977), ('상담/nng;메인/vv;구독/nng;추가/nng;리얼타임/nng', 0.2977), ('투자/nng;노트/nng;바람/nng;피운/vv;배우자/nng', 0.2977), ('부자/nng;후회/nng;습관/nng;투자/nng;노트/nng', 0.2977), ('배우자/nng;가사/nng;상담/nng;메인/vv;구독/nng', 0.2977), ('습관/nng;투자/nng;노트/nng;바람/nng;피운/vv', 0.2977), ('가사/nng;상담/nng;메인/vv;구독/nng;추가/nng', 0.2977)]\n",
      "Topic 7:  [('대법원/nng;전원/nng;합의체/nng;국정농단/nng;사건/nng', 0.42179), ('전원/nng;합의체/nng;국정농단/nng;사건/nng;상고심/nng', 0.34827), ('합의체/nng;국정농단/nng;사건/nng;상고심/nng;부회장/nng', 0.34827), ('극복/nng;국가/nng;경제/nng;이바지/nng;성원/nng', 0.26948), ('위기/nng;극복/nng;국가/nng;경제/nng;이바지/nng', 0.26948), ('국가/nng;경제/nng;이바지/nng;성원/nng;부탁/nng', 0.26948), ('위기/nng;돌파/nng;위하/vv;동력/nng;모이/vv', 0.19564), ('경제/nng;위기/nng;극복/nng;국가/nng;경제/nng', 0.15389), ('불확실성/nng;경제/nng;위기/nng;극복/nng;국가/nng', 0.15389), ('갈수록/mag;불확실성/nng;경제/nng;위기/nng;극복/nng', 0.15389)]\n",
      "Topic 8:  [('소유권/nng;실질/nng;처분/nng;권한/nng;이전/nng', 0.2206), ('직간접적/nng;유리/nng;영향/nng;미치/vv;효과/nng', 0.17056), ('마필/nng;위탁관리/nng;계약서/nng;작성/nng;요구/nng', 0.15799), ('유리/nng;영향/nng;미치/vv;효과/nng;확인/nng', 0.13588), ('미치/vv;효과/nng;확인/nng;사정/nng;승계/nng', 0.13588), ('배경/nng;승마/nng;지원/nng;요구/nng;따르/vv', 0.13588), ('권력/nng;배경/nng;승마/nng;지원/nng;요구/nng', 0.13588), ('승마/nng;지원/nng;요구/nng;따르/vv;관계/nng', 0.13588), ('영향/nng;미치/vv;효과/nng;확인/nng;사정/nng', 0.13588), ('효과/nng;확인/nng;사정/nng;승계/nng;인정/nng', 0.13588)]\n",
      "Topic 9:  [('성신/nng;여대/nng;직물/nng;학과/nng;별세/nng', 0.13043), ('지류/nng;유통/nng;미주/nng;법인/nng;재경/nng', 0.13043), ('마케팅/nng;외조/nng;모상/nng;의료원/nng;발인/nng', 0.13043), ('학과/nng;별세/nng;지류/nng;유통/nng;미주/nng', 0.13043), ('여대/nng;직물/nng;학과/nng;별세/nng;지류/nng', 0.13043), ('직물/nng;학과/nng;별세/nng;지류/nng;유통/nng', 0.13043), ('발인/nng;성신/nng;여대/nng;직물/nng;학과/nng', 0.13043), ('대법원/nng;전원/nng;합의체/nng;국정농단/nng;사건/nng', 0.10146), ('달라지/vv;선택/nng;구독/nng;서비스/nng;요즘/nng', 0.09356), ('선택/nng;구독/nng;서비스/nng;요즘/nng;이야기/nng', 0.08625)]\n",
      "Topic 10:  [('박학다식/nng;칼럼/nng;성공/nng;꿈꾸/vv;사람/nng', 0.42052), ('재테크/nng;비법/nng;박학다식/nng;칼럼/nng;성공/nng', 0.42052), ('고수/nng;재테크/nng;비법/nng;박학다식/nng;칼럼/nng', 0.42052), ('칼럼/nng;성공/nng;꿈꾸/vv;사람/nng;경제/nng', 0.42052), ('비법/nng;박학다식/nng;칼럼/nng;성공/nng;꿈꾸/vv', 0.42052), ('野心/nng;취재/nng;전하/vv;이야기/nng;채널/nng', 0.03348), ('야심/nng;野心/nng;취재/nng;전하/vv;이야기/nng', 0.03348), ('채널/nng;구독/nng;시원/nng;진짜/mag;케이/nng', 0.03348), ('여심/nng;야심/nng;野心/nng;취재/nng;전하/vv', 0.03348), ('전하/vv;이야기/nng;채널/nng;구독/nng;시원/nng', 0.03348)]\n"
     ]
    }
   ],
   "source": [
    "five = news['fivegram'].to_list()\n",
    "import KimModule.Topic_Modeling_LSA_TF_IDF as kim\n",
    "DF =kim.Topic_LSA_TF_IDF(five)\n",
    "df = DF.LSA_TF_IDF()\n",
    "df"
   ]
  },
  {
   "cell_type": "code",
   "execution_count": 13,
   "metadata": {
    "scrolled": true
   },
   "outputs": [
    {
     "name": "stdout",
     "output_type": "stream",
     "text": [
      "TDM토픽모델링\n",
      "Topic 1:  [('생방송/nng;채널/nng;반드시/mag;봐야/vv;힙합/nng', 0.02468), ('채널/nng;생방송/nng;채널/nng;반드시/mag;봐야/vv', 0.02468), ('배포/nng;소방관/nng;자살/nng;트라우마/nng;시달린다/vv', 0.02459), ('개혁/nng;열망/nng;매도/nng;아니/vcn;기득권/nng', 0.02459), ('사람/nng;방금/mag;지적/nng;이렇게/mag;고기/nng', 0.02459), ('사람/nng;들어와서/vv;흐릴/vv;그렇/va;대학생/nng', 0.02459), ('사람/nng;과연/mag;진정/nng;사안/nng;대해서/vv', 0.02459), ('하루빨리/mag;진행/nng;생각/nng;합니다/vv;앵커/nng', 0.02459), ('하루하루/nng;다급/nng;현장/nng;입법/nng;기다리/vv', 0.02459), ('사람/nng;계급/nng;문제/nng;권력/nng;재생산/nng', 0.02459)]\n",
      "Topic 2:  [('88만원세대/nng;저자/nng;박사/nng;조국/nng;법무부/nng', 0.0318), ('힘들/va;친구/nng;많이/mag;속상했/va;동창회/nng', 0.0318), ('아니/vcn;음모/nng;불리/nng;음모/nng;집회/nng', 0.0318), ('아예/mag;투표장/nng;가지/vv;조국/nng;사태/nng', 0.0318), ('아무리/mag;공부/nng;일등/nng;전액/nng;장학금/nng', 0.0318), ('아니/vcn;함께/mag;고난/nng;걸어온/vv;사람/nng', 0.0318), ('아니/vcn;취급/nng;법대/nng;여긴다면/vv;국가/nng', 0.0318), ('아니/vcn;출발점/nng;국민/nng;입시/nng;제도/nng', 0.0318), ('아니/vcn;조국/nng;법무부/nng;임명/nng;강행/nng', 0.0318), ('아니/vcn;정권/nng;향배/nng;가르/vv;전환점/nng', 0.0318)]\n",
      "Topic 3:  [('고령화/nng;시대/nng;대비/nng;제품/nng;준비/nng', 0.06587), ('매콤/nng;달콤/nng;구독/nng;무궁무진/nng;프리미엄/nng', 0.03302), ('달콤/nng;구독/nng;무궁무진/nng;프리미엄/nng;거리/nng', 0.03302), ('프로젝트/nng;프리즘/nng;선포/nng;고령화/nng;추세/nng', 0.03293), ('맞춤/nng;시대/nng;평가/nng;나오/vv;선두/nng', 0.03293), ('공략/nng;적극적/vax;나서/vv;풀이/nng;직접/mag', 0.03293), ('공략/nng;위하/vv;딱딱/nng;이미지/nng;벗어나/vv', 0.03293), ('관계자/nng;생애/nng;사이클/nng;따르/vv;나만/nng', 0.03293), ('공략/nng;위하/vv;가지/vv;이미지/nng;바꿔야/vv', 0.03293), ('노인/nng;교감/nng;보미/nng;상용화/nng;예상/nng', 0.03293)]\n",
      "Topic 4:  [('불화/nng;수소/nng;허가/nng;해서/vv;일희일비/nng', 0.06944), ('수소/nng;허가/nng;해서/vv;일희일비/nng;사안/nng', 0.06944), ('제소/nng;수출/nng;허가/nng;내준/vv;불리/nng', 0.06944), ('내준/vv;불리/nng;거론/nng;패소/nng;염두/nng', 0.06944), ('허가/nng;해서/vv;일희일비/nng;사안/nng;아니/vcn', 0.06944), ('wto/nng;제소/nng;수출/nng;허가/nng;내준/vv', 0.06944), ('패소/nng;염두/nng;조치/nng;기조/nng;변하/vv', 0.06944), ('수출/nng;허가/nng;내준/vv;불리/nng;거론/nng', 0.06944), ('거론/nng;패소/nng;염두/nng;조치/nng;기조/nng', 0.06944), ('허가/nng;내준/vv;불리/nng;거론/nng;패소/nng', 0.06944)]\n",
      "Topic 5:  [('부회장/nng;연루/nng;국정농단/nng;사건/nng;상고심/nng', 0.03957), ('비선/nng;실세/nng;부회장/nng;연루/nng;국정농단/nng', 0.03957), ('실세/nng;부회장/nng;연루/nng;국정농단/nng;사건/nng', 0.03957), ('승계/nng;관하/vv;부정/nng;청탁/nng;인정/nng', 0.03675), ('위탁관리/nng;계약서/nng;작성/nng;요구/nng;패스포트/nng', 0.03647), ('대법원/nng;선고/nng;사건/nng;대해/vv;판단/nng', 0.03647), ('위반/nng;뇌물/nng;특정/nng;경제/nng;중처/nng', 0.03647), ('대법원/nng;양형/nng;대법관/nng;동생/nng;유명/nng', 0.03647), ('위반/nng;혐의/nng;포함/nng;당연히/mag;분리/nng', 0.03647), ('위반/nng;횡령/nng;죄명/nng;혐의/nng;방대/nng', 0.03647)]\n",
      "Topic 6:  [('경제전/nng;예산/nng;입법/nng;지원/nng;단장/nng', 0.11145), ('분명/mag;문제/nng;제기/nng;조금/mag;미안/nng', 0.0743), ('잘못/nng;분명/mag;문제/nng;제기/nng;조금/mag', 0.0743), ('스스로/mag;잘못/nng;분명/mag;문제/nng;제기/nng', 0.0743), ('문제/nng;제기/nng;조금/mag;미안/nng;생각/nng', 0.0743), ('제기/nng;조금/mag;미안/nng;생각/nng;가졌/vv', 0.0743), ('더불/vv;경제전/nng;예산/nng;입법/nng;지원/nng', 0.0743), ('바람/nng;피운/vv;배우자/nng;가사/nng;상담/nng', 0.04025), ('부자/nng;후회/nng;습관/nng;투자/nng;노트/nng', 0.04025), ('노트/nng;바람/nng;피운/vv;배우자/nng;가사/nng', 0.04025)]\n",
      "Topic 7:  [('대법원/nng;파기환송/nng;결정/nng;시민/nng;반응/nng', 0.07589), ('지방/nng;경찰청/nng;지능/nng;범죄/nng;수사대/nng', 0.07589), ('도박/nng;외국환거래법/nng;위반/nng;혐의/nng;입건/nng', 0.07589), ('반일/nng;종족/nng;주의/nng;시민/nng;공분/nng', 0.07589), ('승리/nng;상습/nng;도박/nng;혐의/nng;피의자/nng', 0.07589), ('파기환송/nng;결정/nng;시민/nng;반응/nng;제각각/mag', 0.07589), ('상습/nng;도박/nng;혐의/nng;피의자/nng;조사/nng', 0.07589), ('상습/nng;도박/nng;외국환거래법/nng;위반/nng;혐의/nng', 0.07589), ('대법원/nng;국정농단/nng;사건/nng;핵심/nng;피고인/nng', 0.03972), ('국정농단/nng;사건/nng;핵심/nng;피고인/nng;부회장/nng', 0.03972)]\n",
      "Topic 8:  [('스타트업/nng;제품/nng;창업/nng;아이디어/nng;무료/nng', 0.08691), ('제품/nng;창업/nng;아이디어/nng;무료/nng;전시/nng', 0.08691), ('준비/nng;산업/nng;동향/nng;전망/nng;입지선정/nng', 0.04345), ('준비/nng;사업/nng;꿈꾸/vv;창업자/nng;위하/vv', 0.04345), ('생활/nng;체험/nng;위하/vv;체험/nng;확대/nng', 0.04345), ('생산자/nng;재생에너지/nng;강연/nng;준비/nng;사업/nng', 0.04345), ('주최/nng;공단/nng;주관/nng;최대/nng;규모/nng', 0.04345), ('대거/mag;선보여/vv;공공/nng;지관/nng;발전/nng', 0.04345), ('주제/nng;가장/mag;경제/nng;에너지원/nng;효율/nng', 0.04345), ('스타트업/nng;더불/vv;생활/nng;체험/nng;위하/vv', 0.04345)]\n",
      "Topic 9:  [('강화/nng;수요자/nng;예전/nng;청약통장/nng;신중히/mag', 0.06262), ('입지/nng;요소/nng;학군/nng;생활/nng;인프라/nng', 0.06262), ('이전/nng;제대로/mag;충족/nng;시켜도/xsv;가격/nng', 0.06262), ('단지/nng;공급/nng;기다리/vv;수요자/nng;장점/nng', 0.06262), ('단지/nng;나오/vv;눈길/nng;경기/nng;번지/nng', 0.06262), ('단지/nng;도보/nng;역세권/nng;초등/nng;학교/nng', 0.06262), ('단지/nng;선택/nng;중요/nng;생각/nng;입지/nng', 0.06262), ('단지/nng;여전히/mag;인기/nng;부동산/nng;규제/nng', 0.06262), ('단지/nng;위주/nng;구성/nng;단지/nng;도보/nng', 0.06262), ('단지/nng;인기/nng;가운데/nng;단지/nng;나오/vv', 0.06262)]\n",
      "Topic 10:  [('직권남용죄/nng;강요죄/nng;공무/nng;비밀/nng;누설/nng', 0.085), ('따르/vv;다시/mag;재판/nng;원래/mag;공직자/nng', 0.0425), ('재판/nng;원래/mag;공직자/nng;뇌물/nng;혐의/nng', 0.0425), ('문장/nng;세상/nng;이야기/nng;괴물/nng;공개/nng', 0.0425), ('재판/nng;인물/nng;부회장/nng;징역/nng;벌금/nng', 0.0425), ('조국/nng;사태/nng;관하/vv;오르/vv;이미/mag', 0.0425), ('센터/nng;후원금/nng;추가/nng;부회장/nng;뇌물/nng', 0.0425), ('유명세/nng;케이팝/nng;클래식/nng;스트리밍서비스/nng;네티즌/nng', 0.0425), ('문구/nng;배치/nng;모양/nng;얼굴/nng;기괴/nng', 0.0425), ('문구/nng;갈등/nng;지소/nng;미아/nng;종료/nng', 0.0425)]\n"
     ]
    }
   ],
   "source": [
    "five = news['fivegram'].to_list()\n",
    "import KimModule.Topic_Modeling_LSA_TDM as kim\n",
    "DF =kim.Topic_LSA_TDM(five)\n",
    "df = DF.LSA_TDM()"
   ]
  },
  {
   "cell_type": "code",
   "execution_count": null,
   "metadata": {},
   "outputs": [],
   "source": []
  },
  {
   "cell_type": "code",
   "execution_count": 18,
   "metadata": {},
   "outputs": [],
   "source": [
    "from sklearn.feature_extraction.text import CountVectorizer\n",
    "from sklearn.feature_extraction.text import TfidfVectorizer\n",
    "from sklearn.decomposition import randomized_svd\n",
    "doc_ls = news['fivegram'].to_list()"
   ]
  },
  {
   "cell_type": "code",
   "execution_count": 19,
   "metadata": {},
   "outputs": [
    {
     "name": "stdout",
     "output_type": "stream",
     "text": [
      "TDM토픽모델링\n",
      "Topic 1:  [('생방송/nng;채널/nng;반드시/mag;봐야/vv;힙합/nng', 0.02468), ('채널/nng;생방송/nng;채널/nng;반드시/mag;봐야/vv', 0.02468), ('의미/nng;가능성/nng;개인/nng;가족/nng;출석/nng', 0.02459), ('말씀/nng;대국민/nng;사과/nng;필요/nng;이렇게/mag', 0.02459), ('조국/nng;증인/nng;채택/nng;문제/nng;여야/nng', 0.02459), ('규모/nng;상관없이/mag;상장회사/nng;기업/nng;구조/nng', 0.02459), ('많이/mag;이야기/nng;떠오르/vv;광우병/nng;촛불/nng', 0.02459), ('많이/mag;지나/vv;결과/nng;조금/mag;바뀌/vv', 0.02459), ('오랫동안/nng;입장/nng;내보일/vv;토크/nng;가깝/va', 0.02459), ('오랫동안/nng;만약/mag;그리/mag;해서/vv;경제/nng', 0.02459)]\n",
      "Topic 2:  [('88만원세대/nng;저자/nng;박사/nng;조국/nng;법무부/nng', 0.0318), ('힘들/va;친구/nng;많이/mag;속상했/va;동창회/nng', 0.0318), ('박사/nng;사회/nng;다양/nng;기여/nng;과소/nng', 0.0318), ('반성/nng;필요/nng;견제도/nng;조국/nng;사태/nng', 0.0318), ('반대/nng;조기/nng;유학/nng;학벌주의/nng;공고/nng', 0.0318), ('박탈감/nng;매우/mag;짐작/nng;로비/nng;의혹/nng', 0.0318), ('박사/nng;해제/nng;비유/nng;거치/vv;나쁘/va', 0.0318), ('박사/nng;필요/nng;과학/nng;실험/nng;들어가/vv', 0.0318), ('박사/nng;중상위/nng;단단/nng;직장/nng;가지/vv', 0.0318), ('박사/nng;조국/nng;법무부/nng;후보자/nng;대해/vv', 0.0318)]\n",
      "Topic 3:  [('고령화/nng;시대/nng;대비/nng;제품/nng;준비/nng', 0.06587), ('달콤/nng;구독/nng;무궁무진/nng;프리미엄/nng;거리/nng', 0.03302), ('매콤/nng;달콤/nng;구독/nng;무궁무진/nng;프리미엄/nng', 0.03302), ('색상/nng;기능/nng;지적/nng;수정/nng;비스/nng', 0.03293), ('밀레니얼세대/nng;공략/nng;나선다는/vv;전략/nng;비스/nng', 0.03293), ('밀레니얼/nng;공략/nng;업계/nng;최초/nng;출시/nng', 0.03293), ('밀레니얼/nng;운영/nng;통하/vv;밀레니얼세대/nng;구매/nng', 0.03293), ('밀레니얼/nng;중심/nng;다양/nng;취향/nng;경험/nng', 0.03293), ('밀레니얼세대/nng;겨냥/nng;제품/nng;계속/nng;해서/xsv', 0.03293), ('최대/nng;소요/nng;수제/nng;제조/nng;통상/nng', 0.03293)]\n",
      "Topic 4:  [('wto/nng;제소/nng;수출/nng;허가/nng;내준/vv', 0.06958), ('제소/nng;수출/nng;허가/nng;내준/vv;불리/nng', 0.06958), ('패소/nng;염두/nng;조치/nng;기조/nng;변하/vv', 0.06958), ('불리/nng;거론/nng;패소/nng;염두/nng;조치/nng', 0.06958), ('허가/nng;내준/vv;불리/nng;거론/nng;패소/nng', 0.06958), ('거론/nng;패소/nng;염두/nng;조치/nng;기조/nng', 0.06958), ('내준/vv;불리/nng;거론/nng;패소/nng;염두/nng', 0.06958), ('수출/nng;허가/nng;내준/vv;불리/nng;거론/nng', 0.06958), ('불화/nng;수소/nng;허가/nng;해서/vv;일희일비/nng', 0.06958), ('허가/nng;해서/vv;일희일비/nng;사안/nng;아니/vcn', 0.06958)]\n",
      "Topic 5:  [('부회장/nng;연루/nng;국정농단/nng;사건/nng;상고심/nng', 0.03899), ('실세/nng;부회장/nng;연루/nng;국정농단/nng;사건/nng', 0.03899), ('비선/nng;실세/nng;부회장/nng;연루/nng;국정농단/nng', 0.03899), ('정치권력/nng;자본/nng;권력/nng;부도덕/nng;밀착/nng', 0.03679), ('승계/nng;관하/vv;부정/nng;청탁/nng;인정/nng', 0.03673), ('위하/vv;무죄/nng;확정/nng;유죄/nng;판단/nng', 0.03648), ('판결/nng;비슷/nng;뇌물/nng;액수/nng;부회장/nng', 0.03648), ('재판/nng;넘겨졌/vv;부회장/nng;모두/mag;다시/mag', 0.03648), ('같이/mag;국동/nng;센터/nng;후원금/nng;뇌물/nng', 0.03648), ('분리/nng;선고/nng;놓치/vv;판사/nng;조항/nng', 0.03648)]\n",
      "Topic 6:  [('경제전/nng;예산/nng;입법/nng;지원/nng;단장/nng', 0.11146), ('분명/mag;문제/nng;제기/nng;조금/mag;미안/nng', 0.07431), ('문제/nng;제기/nng;조금/mag;미안/nng;생각/nng', 0.07431), ('스스로/mag;잘못/nng;분명/mag;문제/nng;제기/nng', 0.07431), ('제기/nng;조금/mag;미안/nng;생각/nng;가졌/vv', 0.07431), ('잘못/nng;분명/mag;문제/nng;제기/nng;조금/mag', 0.07431), ('더불/vv;경제전/nng;예산/nng;입법/nng;지원/nng', 0.07431), ('바람/nng;피운/vv;배우자/nng;가사/nng;상담/nng', 0.04003), ('피운/vv;배우자/nng;가사/nng;상담/nng;메인/vv', 0.04003), ('배우자/nng;가사/nng;상담/nng;메인/vv;구독/nng', 0.04003)]\n",
      "Topic 7:  [('지방/nng;경찰청/nng;지능/nng;범죄/nng;수사대/nng', 0.07589), ('승리/nng;상습/nng;도박/nng;혐의/nng;피의자/nng', 0.07589), ('도박/nng;외국환거래법/nng;위반/nng;혐의/nng;입건/nng', 0.07589), ('상습/nng;도박/nng;외국환거래법/nng;위반/nng;혐의/nng', 0.07589), ('대법원/nng;파기환송/nng;결정/nng;시민/nng;반응/nng', 0.07589), ('반일/nng;종족/nng;주의/nng;시민/nng;공분/nng', 0.07589), ('상습/nng;도박/nng;혐의/nng;피의자/nng;조사/nng', 0.07589), ('파기환송/nng;결정/nng;시민/nng;반응/nng;제각각/mag', 0.07589), ('국정농단/nng;사건/nng;핵심/nng;피고인/nng;부회장/nng', 0.04027), ('대법원/nng;국정농단/nng;사건/nng;핵심/nng;피고인/nng', 0.04027)]\n",
      "Topic 8:  [('제품/nng;창업/nng;아이디어/nng;무료/nng;전시/nng', 0.089), ('스타트업/nng;제품/nng;창업/nng;아이디어/nng;무료/nng', 0.089), ('프로그램/nng;관객/nng;기다리/vv;재생에너지/nng;이용/nng', 0.0445), ('제품/nng;전시/nng;해외/nng;바이어/nng;초청/nng', 0.0445), ('관리/nng;원격/nng;모니터링/nng;효율/nng;향상/nng', 0.0445), ('무료/nng;전시/nng;어렵/va;느껴질/vv;국민/nng', 0.0445), ('수출/nng;계약/nng;체결/nng;지원/nng;발전/nng', 0.0445), ('수출/nng;계약/nng;성과/nng;이뤄낸/vv;태양광발전시스템/nng', 0.0445), ('무료/nng;전시/nng;지원/nng;전시/nng;중앙/nng', 0.0445), ('수출/nng;계약/nng;관심/nng;쏠리/vv;기업/nng', 0.0445)]\n",
      "Topic 9:  [('여전히/mag;인기/nng;부동산/nng;규제/nng;강화/nng', 0.05619), ('가능/nng;고덕/nng;분양권/nng;전매/nng;제한/nng', 0.05619), ('물론/mag;배후/nng;주거지/nng;프리미엄/nng;갖췄/vv', 0.05619), ('회원/nng;대상/nng;분양시장/nng;소비자/nng;선호/nng', 0.05619), ('물론/mag;가격/nng;상승/nng;여력/nng;꼼꼼히/mag', 0.05619), ('인식/nng;부동산/nng;규제/nng;강화/nng;수요자/nng', 0.05619), ('문화/nng;거리/nng;상권/nng;공원/nng;가깝/va', 0.05619), ('시켜도/xsv;가격/nng;인식/nng;부동산/nng;규제/nng', 0.05619), ('시티/nng;주인공/nng;단지/mag;지상/nng;최고/nng', 0.05619), ('시티/nng;지하철/nng;이용/nng;편리/nng;역과/nng', 0.05619)]\n",
      "Topic 10:  [('직권남용죄/nng;강요죄/nng;공무/nng;비밀/nng;누설/nng', 0.08077), ('규정/nng;따르/vv;다시/mag;재판/nng;원래/mag', 0.04038), ('항상/mag;요약/nng;나서/vv;위하/vv;준비/nng', 0.04038), ('부회장/nng;징역/nng;벌금/nng;부회장/nng;징역/nng', 0.04038), ('디자인/nng;기대/nng;걱정/nng;영향/nng;가격/nng', 0.04038), ('인용/nng;국정농단/nng;사건/nng;재판/nng;진행/nng', 0.04038), ('등재/nng;조국/nng;노력/nng;산물/nng;어렵/va', 0.04038), ('논문/nng;저자/nng;등재/nng;조국/nng;노력/nng', 0.04038), ('결론/nng;대법원/nng;내리/vv;선고/nng;취소/nng', 0.04038), ('부회장/nng;징역/nng;집행유예/nng;선고/nng;대법원/nng', 0.04038)]\n"
     ]
    }
   ],
   "source": [
    "#sklearn TDM\n",
    "def TDM(doc_ls):\n",
    "    def tokenizer(doc):\n",
    "        return doc.split(',')\n",
    "\n",
    "    vectorizer_TDM = CountVectorizer(min_df = 1,tokenizer = tokenizer)\n",
    "    tdm = vectorizer_TDM.fit_transform(doc_ls)\n",
    "    terms =  vectorizer_TDM.get_feature_names()\n",
    "    #Y.toarray()\n",
    "    return tdm,terms\n",
    "tdm, terms = TDM(doc_ls)\n",
    "#tdm.toarray()\n",
    "\n",
    "\n",
    "\n",
    "# 특이값 분해\n",
    "def SVD(tdm):\n",
    "    U, s, VT = randomized_svd(tdm, n_components=10,n_iter=5,random_state=None)\n",
    "    #U, s, VT = np.linalg.svd(tdm)\n",
    "    return U, s, VT\n",
    "\n",
    "U_tdm, s_tdm, VT_tdm = SVD(tdm)\n",
    "\n",
    "# 토픽 모델링\n",
    "def get_topics(components, feature_names, n=10):\n",
    "    for idx, topic in enumerate(components):\n",
    "        print(\"Topic %d: \" % (idx+1),\n",
    "             [(feature_names[i], topic[i].round(5)) for i in topic.argsort()[:-n-1:-1]])\n",
    "\n",
    "\n",
    "print(\"TDM토픽모델링\")\n",
    "get_topics(VT_tdm, terms)"
   ]
  },
  {
   "cell_type": "code",
   "execution_count": null,
   "metadata": {},
   "outputs": [],
   "source": []
  },
  {
   "cell_type": "code",
   "execution_count": null,
   "metadata": {},
   "outputs": [],
   "source": []
  },
  {
   "cell_type": "code",
   "execution_count": null,
   "metadata": {},
   "outputs": [],
   "source": []
  },
  {
   "cell_type": "code",
   "execution_count": null,
   "metadata": {},
   "outputs": [],
   "source": []
  },
  {
   "cell_type": "code",
   "execution_count": null,
   "metadata": {},
   "outputs": [],
   "source": []
  },
  {
   "cell_type": "code",
   "execution_count": 20,
   "metadata": {},
   "outputs": [
    {
     "name": "stderr",
     "output_type": "stream",
     "text": [
      "C:\\Users\\khjin\\.conda\\envs\\jin\\lib\\site-packages\\gensim\\utils.py:1197: UserWarning: detected Windows; aliasing chunkize to chunkize_serial\n",
      "  warnings.warn(\"detected Windows; aliasing chunkize to chunkize_serial\")\n"
     ]
    },
    {
     "ename": "NameError",
     "evalue": "name 'corpus' is not defined",
     "output_type": "error",
     "traceback": [
      "\u001b[1;31m---------------------------------------------------------------------------\u001b[0m",
      "\u001b[1;31mNameError\u001b[0m                                 Traceback (most recent call last)",
      "\u001b[1;32m<ipython-input-20-da39f09fe916>\u001b[0m in \u001b[0;36m<module>\u001b[1;34m\u001b[0m\n\u001b[0;32m      3\u001b[0m \u001b[1;33m\u001b[0m\u001b[0m\n\u001b[0;32m      4\u001b[0m \u001b[1;32mfor\u001b[0m \u001b[0mtopic_num\u001b[0m \u001b[1;32min\u001b[0m \u001b[0mrange\u001b[0m\u001b[1;33m(\u001b[0m\u001b[1;36m5\u001b[0m\u001b[1;33m,\u001b[0m\u001b[1;36m21\u001b[0m\u001b[1;33m,\u001b[0m\u001b[1;36m5\u001b[0m\u001b[1;33m)\u001b[0m\u001b[1;33m:\u001b[0m\u001b[1;33m\u001b[0m\u001b[1;33m\u001b[0m\u001b[0m\n\u001b[1;32m----> 5\u001b[1;33m     \u001b[0mmodel\u001b[0m \u001b[1;33m=\u001b[0m \u001b[0mLsiModel\u001b[0m\u001b[1;33m(\u001b[0m\u001b[0mcorpus\u001b[0m\u001b[1;33m,\u001b[0m\u001b[0mnum_topics\u001b[0m\u001b[1;33m=\u001b[0m\u001b[0mtopic_num\u001b[0m\u001b[1;33m,\u001b[0m \u001b[0mid2word\u001b[0m \u001b[1;33m=\u001b[0m \u001b[0mterm\u001b[0m\u001b[1;33m)\u001b[0m\u001b[1;33m\u001b[0m\u001b[1;33m\u001b[0m\u001b[0m\n\u001b[0m",
      "\u001b[1;31mNameError\u001b[0m: name 'corpus' is not defined"
     ]
    }
   ],
   "source": [
    "from gensim.models import LsiModel\n",
    "\n",
    "for topic_num in range(5,21,5):\n",
    "    model = LsiModel(corpus,num_topics=topic_num, id2word = term)"
   ]
  },
  {
   "cell_type": "code",
   "execution_count": null,
   "metadata": {},
   "outputs": [],
   "source": []
  },
  {
   "cell_type": "code",
   "execution_count": null,
   "metadata": {},
   "outputs": [],
   "source": []
  }
 ],
 "metadata": {
  "kernelspec": {
   "display_name": "Python 3",
   "language": "python",
   "name": "python3"
  },
  "language_info": {
   "codemirror_mode": {
    "name": "ipython",
    "version": 3
   },
   "file_extension": ".py",
   "mimetype": "text/x-python",
   "name": "python",
   "nbconvert_exporter": "python",
   "pygments_lexer": "ipython3",
   "version": "3.6.8"
  }
 },
 "nbformat": 4,
 "nbformat_minor": 2
}
