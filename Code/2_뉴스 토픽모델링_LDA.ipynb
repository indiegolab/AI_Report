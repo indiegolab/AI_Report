{
 "cells": [
  {
   "cell_type": "code",
   "execution_count": null,
   "metadata": {},
   "outputs": [],
   "source": [
    "doc_ls = ['바나나 사과 포도 포도',\n",
    "         '사과 포도',\n",
    "         '포도 바나나',\n",
    "         '짜장면 짬뽕 탕수육',\n",
    "         '볶음밥 탕수육',\n",
    "         '짜장면 짬뽕',\n",
    "         '라면 스시',\n",
    "         '스시',\n",
    "         '가츠동 스시 소바',\n",
    "         '된장찌개 김치찌개 김치',\n",
    "         '김치 된장',\n",
    "         '비빔밥 김치']"
   ]
  },
  {
   "cell_type": "code",
   "execution_count": null,
   "metadata": {},
   "outputs": [],
   "source": [
    "import pandas as pd\n",
    "tokenized_doc = pd.Series([i.split() for i in doc_ls])\n",
    "tokenized_doc"
   ]
  },
  {
   "cell_type": "code",
   "execution_count": null,
   "metadata": {},
   "outputs": [],
   "source": [
    "from gensim import corpora\n",
    "dictionary = corpora.Dictionary(tokenized_doc)\n",
    "corpus = [dictionary.doc2bow(text) for text in tokenized_doc]"
   ]
  },
  {
   "cell_type": "code",
   "execution_count": null,
   "metadata": {},
   "outputs": [],
   "source": [
    "dictionary"
   ]
  },
  {
   "cell_type": "code",
   "execution_count": null,
   "metadata": {},
   "outputs": [],
   "source": [
    "corpus"
   ]
  },
  {
   "cell_type": "code",
   "execution_count": null,
   "metadata": {},
   "outputs": [],
   "source": [
    "import gensim\n",
    "ldamodel = gensim.models.ldamodel.LdaModel(corpus, num_topics = 4, id2word = dictionary, passes=5)\n",
    "\n",
    "topics = ldamodel.print_topics(num_words=3)\n",
    "for topic in topics:\n",
    "    print(topic)"
   ]
  },
  {
   "cell_type": "code",
   "execution_count": null,
   "metadata": {},
   "outputs": [],
   "source": []
  },
  {
   "cell_type": "code",
   "execution_count": null,
   "metadata": {},
   "outputs": [],
   "source": []
  },
  {
   "cell_type": "code",
   "execution_count": null,
   "metadata": {},
   "outputs": [],
   "source": [
    "import pandas as pd\n",
    "news =pd.read_csv('./data/news_data/news_sample_ngram_ver4.csv',encoding = 'utf-8',lineterminator='\\n')\n",
    "news.head()\n",
    "\n",
    "news = news.dropna()\n",
    "news = news.reset_index()\n",
    "del news['index']"
   ]
  },
  {
   "cell_type": "code",
   "execution_count": null,
   "metadata": {},
   "outputs": [],
   "source": []
  },
  {
   "cell_type": "code",
   "execution_count": null,
   "metadata": {},
   "outputs": [],
   "source": [
    "new_doc_ls = news['trigram'].to_list()\n",
    "import KimModule.Topic_Modeling_LDA_TDM as kim\n",
    "DF =kim.Topic_LDA_TDM(new_doc_ls)\n",
    "df = DF.LDA_TDM()\n",
    "df"
   ]
  },
  {
   "cell_type": "code",
   "execution_count": null,
   "metadata": {},
   "outputs": [],
   "source": [
    "new_doc_ls = news['trigram'].to_list()\n",
    "import KimModule.Topic_Modeling_LDA_TF_IDF as kim\n",
    "DF =kim.Topic_LDA_TF_IDF(new_doc_ls)\n",
    "df = DF.LDA_TF_IDF()\n",
    "df"
   ]
  },
  {
   "cell_type": "code",
   "execution_count": null,
   "metadata": {},
   "outputs": [],
   "source": []
  },
  {
   "cell_type": "code",
   "execution_count": null,
   "metadata": {},
   "outputs": [],
   "source": [
    "new_doc_ls = news['fivegram'].to_list()\n",
    "import KimModule.Topic_Modeling_LDA_TDM as kim\n",
    "DF =kim.Topic_LDA_TDM(new_doc_ls)\n",
    "df = DF.LDA_TDM()\n",
    "df"
   ]
  },
  {
   "cell_type": "code",
   "execution_count": null,
   "metadata": {},
   "outputs": [],
   "source": [
    "new_doc_ls = news['fivegram'].to_list()\n",
    "import KimModule.Topic_Modeling_LDA_TF_IDF as kim\n",
    "DF =kim.Topic_LDA_TF_IDF(new_doc_ls)\n",
    "df = DF.LDA_TF_IDF()\n",
    "df"
   ]
  },
  {
   "cell_type": "code",
   "execution_count": null,
   "metadata": {},
   "outputs": [],
   "source": []
  },
  {
   "cell_type": "code",
   "execution_count": null,
   "metadata": {},
   "outputs": [],
   "source": [
    "import pandas as pd\n",
    "import gensim\n",
    "from gensim import corpora\n",
    "from gensim.models import LdaModel\n",
    "from gensim.models import TfidfModel\n",
    "\n",
    "news_doc_ls = news['fivegram'].to_list()\n",
    "news_doc = [doc.split(',') for doc in news_doc_ls]\n",
    "dictionary = corpora.Dictionary(news_doc)\n",
    "corpus = [dictionary.doc2bow(text) for text in news_doc]\n",
    "tfidf_model = TfidfModel(corpus)\n",
    "corpus = tfidf_model[corpus]\n",
    "ldamodel = gensim.models.ldamodel.LdaModel(corpus, num_topics = 10, id2word = dictionary, passes=5)\n",
    "topics = ldamodel.print_topics(num_words=10)\n",
    "for topic in topics:\n",
    "    print(topic)"
   ]
  },
  {
   "cell_type": "markdown",
   "metadata": {},
   "source": [
    "참고 : \n",
    "\n",
    "perplexity_values는 확률 모델이 표본을 얼마나 잘 예측하는지에 대한 통계적 측정 값. \n",
    "       \n",
    "주어진 k 값에 대해 LDA에 적용될 때 LDA 모형을 추정한다. \n",
    "       "
   ]
  },
  {
   "cell_type": "code",
   "execution_count": 1,
   "metadata": {},
   "outputs": [],
   "source": [
    "import pandas as pd\n",
    "news =pd.read_csv('./data/news_data/news_samgsung_skhinix_ngram.csv',encoding = 'utf-8',lineterminator='\\n')\n",
    "news.head()\n",
    "\n",
    "news = news.dropna()\n",
    "news = news.reset_index()\n",
    "del news['index']"
   ]
  },
  {
   "cell_type": "code",
   "execution_count": 2,
   "metadata": {},
   "outputs": [
    {
     "name": "stderr",
     "output_type": "stream",
     "text": [
      "C:\\Users\\khjin\\.conda\\envs\\jin\\lib\\site-packages\\gensim\\utils.py:1197: UserWarning: detected Windows; aliasing chunkize to chunkize_serial\n",
      "  warnings.warn(\"detected Windows; aliasing chunkize to chunkize_serial\")\n"
     ]
    }
   ],
   "source": [
    "from gensim.models import LdaModel\n",
    "from gensim.models.coherencemodel import CoherenceModel\n",
    "import pandas as pd\n",
    "import gensim\n",
    "from gensim import corpora\n",
    "from gensim.models import LdaModel\n",
    "from gensim.models import TfidfModel\n",
    "news_doc_ls = news['fivegram'].to_list()\n"
   ]
  },
  {
   "cell_type": "code",
   "execution_count": 3,
   "metadata": {},
   "outputs": [],
   "source": [
    "def Topic_Num_Decision(news_doc_ls, start, stop, size):\n",
    "    \n",
    "    model_list = []\n",
    "    coherence_values = []\n",
    "    topic_n_list = []\n",
    "    perplexity_values = []\n",
    "    news_doc = [doc.split(',') for doc in news_doc_ls]\n",
    "    #dic = corpora.Dictionary(news_doc)\n",
    "    dictionary = corpora.Dictionary(news_doc)\n",
    "    corpus = [dictionary.doc2bow(text) for text in news_doc]\n",
    "    tfidf_model = TfidfModel(corpus)\n",
    "    corpus = tfidf_model[corpus]\n",
    "\n",
    "    for num_topics in range(start, stop, size):\n",
    "        model = LdaModel(corpus, num_topics=num_topics, id2word = dictionary)\n",
    "        model_list.append(model)\n",
    "\n",
    "        coherencemodel = CoherenceModel(model=model, texts=news_doc, dictionary=dictionary, coherence='c_v')\n",
    "        coherence_values.append(coherencemodel.get_coherence())\n",
    "        topic_n_list.append(num_topics)\n",
    "        perplexity_values.append(model.log_perplexity(corpus))\n",
    "    return model_list, coherence_values, perplexity_values\n",
    "        \n",
    "        \n"
   ]
  },
  {
   "cell_type": "code",
   "execution_count": null,
   "metadata": {},
   "outputs": [],
   "source": [
    "model_list, coherence_values, perplexity_values = Topic_Num_Decision(news_doc_ls,5,21,5)"
   ]
  },
  {
   "cell_type": "code",
   "execution_count": null,
   "metadata": {},
   "outputs": [],
   "source": [
    "model_list, coherence_values, perplexity_values"
   ]
  },
  {
   "cell_type": "code",
   "execution_count": 6,
   "metadata": {},
   "outputs": [],
   "source": [
    "import matplotlib.pyplot as plt\n",
    "def Topic_Num_Decision_Plt(news_doc_ls, start, stop, size):\n",
    "    \n",
    "    model_list, coherence_values, perplexity_values = Topic_Num_Decision(news_doc_ls, start, stop, size)\n",
    "    x = range(start, stop, size)\n",
    "    fig, ax1 = plt.subplots()\n",
    "    color = 'tab:blue'\n",
    "    ax1.set_xlabel(\"Number of Topics\")\n",
    "    ax1.set_ylabel(\"Coherence score\", color=color)\n",
    "    ax1.plot(x, coherence_values, color=color)\n",
    "    ax1.tick_params(axis='y', labelcolor=color)\n",
    "    ax2 = ax1.twinx()  # instantiate a second axes that shares the same x-axis\n",
    "\n",
    "    color = 'tab:red'\n",
    "    ax2.set_ylabel('Perplexity score', color=color)  # we already handled the x-label with ax1\n",
    "    ax2.plot(x, perplexity_values, color=color)\n",
    "    ax2.tick_params(axis='y', labelcolor=color)\n",
    "\n",
    "    fig.tight_layout()  # otherwise the right y-label is slightly clipped\n",
    "    plt.show()"
   ]
  },
  {
   "cell_type": "code",
   "execution_count": 9,
   "metadata": {},
   "outputs": [
    {
     "data": {
      "image/png": "[encoded data removed]",
      "text/plain": [
       "<Figure size 432x288 with 2 Axes>"
      ]
     },
     "metadata": {
      "needs_background": "light"
     },
     "output_type": "display_data"
    }
   ],
   "source": [
    "Topic_Num_Decision_Plt(news_doc_ls, 5, 21, 5)"
   ]
  },
  {
   "cell_type": "code",
   "execution_count": 11,
   "metadata": {},
   "outputs": [
    {
     "data": {
      "text/plain": [
       "48869"
      ]
     },
     "execution_count": 11,
     "metadata": {},
     "output_type": "execute_result"
    }
   ],
   "source": [
    "import pandas as pd\n",
    "news =pd.read_csv('./data/news_data/news_samgsung_skhinix_ngram.csv',encoding = 'utf-8',lineterminator='\\n')\n",
    "\n",
    "news = news.dropna()\n",
    "news = news.reset_index()\n",
    "del news['index']\n",
    "len(news)"
   ]
  },
  {
   "cell_type": "code",
   "execution_count": 2,
   "metadata": {},
   "outputs": [
    {
     "data": {
      "text/html": [
       "<div>\n",
       "<style scoped>\n",
       "    .dataframe tbody tr th:only-of-type {\n",
       "        vertical-align: middle;\n",
       "    }\n",
       "\n",
       "    .dataframe tbody tr th {\n",
       "        vertical-align: top;\n",
       "    }\n",
       "\n",
       "    .dataframe thead th {\n",
       "        text-align: right;\n",
       "    }\n",
       "</style>\n",
       "<table border=\"1\" class=\"dataframe\">\n",
       "  <thead>\n",
       "    <tr style=\"text-align: right;\">\n",
       "      <th></th>\n",
       "      <th>Unnamed: 0</th>\n",
       "      <th>Unnamed: 0.1</th>\n",
       "      <th>type</th>\n",
       "      <th>date</th>\n",
       "      <th>media</th>\n",
       "      <th>title</th>\n",
       "      <th>content</th>\n",
       "      <th>url</th>\n",
       "      <th>tokens</th>\n",
       "      <th>bigram</th>\n",
       "      <th>trigram</th>\n",
       "      <th>fourgram</th>\n",
       "      <th>fivegram</th>\n",
       "      <th>ngram</th>\n",
       "    </tr>\n",
       "  </thead>\n",
       "  <tbody>\n",
       "    <tr>\n",
       "      <th>0</th>\n",
       "      <td>0</td>\n",
       "      <td>0</td>\n",
       "      <td>news</td>\n",
       "      <td>2019-08-31 20:01:00</td>\n",
       "      <td>서울일보</td>\n",
       "      <td>판깨스트 국정농단 상고심박근혜 2심 김문석 vs 이재용 2심 정형식 판결 재조명</td>\n",
       "      <td>박근혜왼쪽 전 대통령과 이재용 삼성전자 부회장. 연합2016년 말 전국에 들불처럼 ...</td>\n",
       "      <td>https://www.seoul.co.kr/news/newsView.php?id=2...</td>\n",
       "      <td>왼쪽/nng,부회장/nng,연합/nng,전국/nng,들불/nng,촛불/nng,번지/...</td>\n",
       "      <td>왼쪽/nng;부회장/nng,부회장/nng;연합/nng,연합/nng;전국/nng,전국...</td>\n",
       "      <td>왼쪽/nng;부회장/nng;연합/nng,부회장/nng;연합/nng;전국/nng,연합...</td>\n",
       "      <td>왼쪽/nng;부회장/nng;연합/nng;전국/nng,부회장/nng;연합/nng;전국...</td>\n",
       "      <td>왼쪽/nng;부회장/nng;연합/nng;전국/nng;들불/nng,부회장/nng;연합...</td>\n",
       "      <td>왼쪽/nng;부회장/nng,부회장/nng;연합/nng,연합/nng;전국/nng,전국...</td>\n",
       "    </tr>\n",
       "  </tbody>\n",
       "</table>\n",
       "</div>"
      ],
      "text/plain": [
       "   Unnamed: 0  Unnamed: 0.1  type                 date media  \\\n",
       "0           0             0  news  2019-08-31 20:01:00  서울일보   \n",
       "\n",
       "                                          title  \\\n",
       "0  판깨스트 국정농단 상고심박근혜 2심 김문석 vs 이재용 2심 정형식 판결 재조명   \n",
       "\n",
       "                                             content  \\\n",
       "0  박근혜왼쪽 전 대통령과 이재용 삼성전자 부회장. 연합2016년 말 전국에 들불처럼 ...   \n",
       "\n",
       "                                                 url  \\\n",
       "0  https://www.seoul.co.kr/news/newsView.php?id=2...   \n",
       "\n",
       "                                              tokens  \\\n",
       "0  왼쪽/nng,부회장/nng,연합/nng,전국/nng,들불/nng,촛불/nng,번지/...   \n",
       "\n",
       "                                              bigram  \\\n",
       "0  왼쪽/nng;부회장/nng,부회장/nng;연합/nng,연합/nng;전국/nng,전국...   \n",
       "\n",
       "                                             trigram  \\\n",
       "0  왼쪽/nng;부회장/nng;연합/nng,부회장/nng;연합/nng;전국/nng,연합...   \n",
       "\n",
       "                                            fourgram  \\\n",
       "0  왼쪽/nng;부회장/nng;연합/nng;전국/nng,부회장/nng;연합/nng;전국...   \n",
       "\n",
       "                                            fivegram  \\\n",
       "0  왼쪽/nng;부회장/nng;연합/nng;전국/nng;들불/nng,부회장/nng;연합...   \n",
       "\n",
       "                                             ngram\\r  \n",
       "0  왼쪽/nng;부회장/nng,부회장/nng;연합/nng,연합/nng;전국/nng,전국...  "
      ]
     },
     "execution_count": 2,
     "metadata": {},
     "output_type": "execute_result"
    }
   ],
   "source": [
    "news.head(1)"
   ]
  },
  {
   "cell_type": "code",
   "execution_count": 12,
   "metadata": {},
   "outputs": [],
   "source": [
    "new_doc_ls = news['tokens'].to_list()\n",
    "import KimModule.Topic_Modeling_LDA_TF_IDF as kim\n",
    "DF =kim.Topic_LDA_TF_IDF(new_doc_ls)"
   ]
  },
  {
   "cell_type": "code",
   "execution_count": 6,
   "metadata": {},
   "outputs": [],
   "source": [
    "#model_list, coherence_values, perplexity_values = DF.Topic_Num_Decision(5,21,5)"
   ]
  },
  {
   "cell_type": "code",
   "execution_count": 13,
   "metadata": {},
   "outputs": [
    {
     "data": {
      "image/png": "[encoded data removed]",
      "text/plain": [
       "<Figure size 432x288 with 2 Axes>"
      ]
     },
     "metadata": {
      "needs_background": "light"
     },
     "output_type": "display_data"
    }
   ],
   "source": [
    "DF.Topic_Num_Decision_Plt(5,21,5)"
   ]
  },
  {
   "cell_type": "code",
   "execution_count": 14,
   "metadata": {},
   "outputs": [
    {
     "data": {
      "image/png": "[encoded data removed]",
      "text/plain": [
       "<Figure size 432x288 with 2 Axes>"
      ]
     },
     "metadata": {
      "needs_background": "light"
     },
     "output_type": "display_data"
    }
   ],
   "source": [
    "DF.Topic_Num_Decision_Plt(5,21,5)"
   ]
  },
  {
   "cell_type": "code",
   "execution_count": null,
   "metadata": {},
   "outputs": [],
   "source": [
    "new_doc_ls = news['bigram'].to_list()\n",
    "import KimModule.Topic_Modeling_LDA_TF_IDF as kim\n",
    "DF2 =kim.Topic_LDA_TF_IDF(new_doc_ls)\n",
    "DF2.Topic_Num_Decision_Plt(5,21,5)"
   ]
  },
  {
   "cell_type": "code",
   "execution_count": null,
   "metadata": {},
   "outputs": [],
   "source": []
  }
 ],
 "metadata": {
  "kernelspec": {
   "display_name": "Python 3",
   "language": "python",
   "name": "python3"
  },
  "language_info": {
   "codemirror_mode": {
    "name": "ipython",
    "version": 3
   },
   "file_extension": ".py",
   "mimetype": "text/x-python",
   "name": "python",
   "nbconvert_exporter": "python",
   "pygments_lexer": "ipython3",
   "version": "3.6.8"
  }
 },
 "nbformat": 4,
 "nbformat_minor": 2
}
